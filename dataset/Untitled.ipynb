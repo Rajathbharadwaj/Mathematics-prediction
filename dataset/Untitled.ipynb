{
 "cells": [
  {
   "cell_type": "code",
   "execution_count": 1,
   "metadata": {},
   "outputs": [
    {
     "name": "stderr",
     "output_type": "stream",
     "text": [
      "Using TensorFlow backend.\n"
     ]
    }
   ],
   "source": [
    "from keras.models import Sequential\n",
    "from keras.layers import Convolution2D\n",
    "from keras.layers import MaxPooling2D\n",
    "from keras.layers import Flatten\n",
    "from keras.layers import Dense"
   ]
  },
  {
   "cell_type": "code",
   "execution_count": 2,
   "metadata": {},
   "outputs": [],
   "source": [
    "classifier = Sequential()"
   ]
  },
  {
   "cell_type": "code",
   "execution_count": 3,
   "metadata": {},
   "outputs": [],
   "source": [
    "classifier.add(Convolution2D(32, (3, 3), input_shape = (256,256,3), activation = 'relu'))"
   ]
  },
  {
   "cell_type": "code",
   "execution_count": 4,
   "metadata": {},
   "outputs": [],
   "source": [
    "classifier.add(MaxPooling2D(pool_size=(2,2)))"
   ]
  },
  {
   "cell_type": "code",
   "execution_count": 5,
   "metadata": {},
   "outputs": [],
   "source": [
    "#second convo layer\n",
    "classifier.add(Convolution2D(32, (3, 3), activation = 'relu'))"
   ]
  },
  {
   "cell_type": "code",
   "execution_count": 6,
   "metadata": {},
   "outputs": [],
   "source": [
    "classifier.add(MaxPooling2D(pool_size=(2,2)))"
   ]
  },
  {
   "cell_type": "code",
   "execution_count": 7,
   "metadata": {},
   "outputs": [],
   "source": [
    "#3 convo layer\n",
    "classifier.add(Convolution2D(64, (3, 3), activation = 'relu'))"
   ]
  },
  {
   "cell_type": "code",
   "execution_count": 8,
   "metadata": {},
   "outputs": [],
   "source": [
    "classifier.add(MaxPooling2D(pool_size=(2,2)))"
   ]
  },
  {
   "cell_type": "code",
   "execution_count": 9,
   "metadata": {},
   "outputs": [],
   "source": [
    "classifier.add(Flatten())"
   ]
  },
  {
   "cell_type": "code",
   "execution_count": 10,
   "metadata": {},
   "outputs": [],
   "source": [
    "classifier.add(Dense(units=150, activation='relu'))\n",
    "classifier.add(Dense(units=1, activation='sigmoid'))"
   ]
  },
  {
   "cell_type": "code",
   "execution_count": 11,
   "metadata": {},
   "outputs": [],
   "source": [
    "classifier.compile(optimizer='adam',loss='binary_crossentropy',metrics=['accuracy'])"
   ]
  },
  {
   "cell_type": "code",
   "execution_count": 12,
   "metadata": {},
   "outputs": [],
   "source": [
    "from keras.preprocessing.image import ImageDataGenerator"
   ]
  },
  {
   "cell_type": "code",
   "execution_count": 13,
   "metadata": {},
   "outputs": [],
   "source": [
    "train_datagen = ImageDataGenerator(rescale = 1./255,\n",
    "                                   shear_range = 0.2,\n",
    "                                   zoom_range = 0.2,\n",
    "                                   horizontal_flip = True)\n"
   ]
  },
  {
   "cell_type": "code",
   "execution_count": 14,
   "metadata": {},
   "outputs": [],
   "source": [
    "test_datagen = ImageDataGenerator(rescale = 1./255)\n"
   ]
  },
  {
   "cell_type": "code",
   "execution_count": 15,
   "metadata": {},
   "outputs": [
    {
     "name": "stdout",
     "output_type": "stream",
     "text": [
      "Found 16 images belonging to 2 classes.\n"
     ]
    }
   ],
   "source": [
    "training_set = train_datagen.flow_from_directory('../dataset/training_set/',\n",
    "                                                 target_size = (256,256),\n",
    "                                                 batch_size = 32,\n",
    "                                                 class_mode = 'binary')\n"
   ]
  },
  {
   "cell_type": "code",
   "execution_count": 16,
   "metadata": {},
   "outputs": [
    {
     "name": "stdout",
     "output_type": "stream",
     "text": [
      "Found 4 images belonging to 2 classes.\n"
     ]
    }
   ],
   "source": [
    "test_set = test_datagen.flow_from_directory('../dataset/test_set/',\n",
    "                                            target_size=(256, 256),\n",
    "                                            batch_size=32,\n",
    "                                            class_mode='binary')\n"
   ]
  },
  {
   "cell_type": "code",
   "execution_count": 17,
   "metadata": {
    "scrolled": false
   },
   "outputs": [
    {
     "name": "stdout",
     "output_type": "stream",
     "text": [
      "Epoch 1/75\n",
      "8/8 [==============================] - 5s 658ms/step - loss: 0.9114 - acc: 0.5156 - val_loss: 0.7009 - val_acc: 0.5000\n",
      "Epoch 2/75\n",
      "8/8 [==============================] - 4s 497ms/step - loss: 0.6706 - acc: 0.6484 - val_loss: 0.8821 - val_acc: 0.5000\n",
      "Epoch 3/75\n",
      "8/8 [==============================] - 4s 520ms/step - loss: 0.6098 - acc: 0.6484 - val_loss: 0.9613 - val_acc: 0.5000\n",
      "Epoch 4/75\n",
      "8/8 [==============================] - 4s 496ms/step - loss: 0.4555 - acc: 0.7969 - val_loss: 1.7675 - val_acc: 0.5000\n",
      "Epoch 5/75\n",
      "8/8 [==============================] - 4s 521ms/step - loss: 0.2655 - acc: 0.8984 - val_loss: 2.0161 - val_acc: 0.2500\n",
      "Epoch 6/75\n",
      "8/8 [==============================] - 4s 484ms/step - loss: 0.2450 - acc: 0.9219 - val_loss: 2.2544 - val_acc: 0.5000\n",
      "Epoch 7/75\n",
      "8/8 [==============================] - 4s 526ms/step - loss: 0.3211 - acc: 0.8750 - val_loss: 1.2537 - val_acc: 0.5000\n",
      "Epoch 8/75\n",
      "8/8 [==============================] - 4s 537ms/step - loss: 0.2259 - acc: 0.9297 - val_loss: 2.6781 - val_acc: 0.5000\n",
      "Epoch 9/75\n",
      "8/8 [==============================] - 4s 515ms/step - loss: 0.1036 - acc: 0.9688 - val_loss: 3.5978 - val_acc: 0.5000\n",
      "Epoch 10/75\n",
      "8/8 [==============================] - 4s 529ms/step - loss: 0.0873 - acc: 0.9688 - val_loss: 2.3240 - val_acc: 0.5000\n",
      "Epoch 11/75\n",
      "8/8 [==============================] - 4s 550ms/step - loss: 0.0684 - acc: 0.9844 - val_loss: 2.8306 - val_acc: 0.5000\n",
      "Epoch 12/75\n",
      "8/8 [==============================] - 4s 520ms/step - loss: 0.0330 - acc: 0.9922 - val_loss: 5.0814 - val_acc: 0.5000\n",
      "Epoch 13/75\n",
      "8/8 [==============================] - 4s 487ms/step - loss: 0.0243 - acc: 0.9922 - val_loss: 4.8257 - val_acc: 0.5000\n",
      "Epoch 14/75\n",
      "8/8 [==============================] - 4s 540ms/step - loss: 0.0560 - acc: 0.9766 - val_loss: 2.9774 - val_acc: 0.5000\n",
      "Epoch 15/75\n",
      "8/8 [==============================] - 4s 530ms/step - loss: 0.0294 - acc: 1.0000 - val_loss: 3.9352 - val_acc: 0.5000\n",
      "Epoch 16/75\n",
      "8/8 [==============================] - 4s 478ms/step - loss: 0.0077 - acc: 1.0000 - val_loss: 6.0598 - val_acc: 0.5000\n",
      "Epoch 17/75\n",
      "8/8 [==============================] - 4s 519ms/step - loss: 0.0635 - acc: 0.9766 - val_loss: 5.6195 - val_acc: 0.5000\n",
      "Epoch 18/75\n",
      "8/8 [==============================] - 4s 491ms/step - loss: 0.0660 - acc: 0.9688 - val_loss: 3.3005 - val_acc: 0.5000\n",
      "Epoch 19/75\n",
      "8/8 [==============================] - 4s 510ms/step - loss: 0.0713 - acc: 0.9766 - val_loss: 3.9008 - val_acc: 0.5000\n",
      "Epoch 20/75\n",
      "8/8 [==============================] - 4s 514ms/step - loss: 0.0415 - acc: 0.9922 - val_loss: 3.5959 - val_acc: 0.5000\n",
      "Epoch 21/75\n",
      "8/8 [==============================] - 4s 503ms/step - loss: 0.0088 - acc: 1.0000 - val_loss: 5.1164 - val_acc: 0.5000\n",
      "Epoch 22/75\n",
      "8/8 [==============================] - 4s 519ms/step - loss: 0.0018 - acc: 1.0000 - val_loss: 7.1963 - val_acc: 0.5000\n",
      "Epoch 23/75\n",
      "8/8 [==============================] - 4s 513ms/step - loss: 0.0027 - acc: 1.0000 - val_loss: 6.2975 - val_acc: 0.5000\n",
      "Epoch 24/75\n",
      "8/8 [==============================] - 4s 509ms/step - loss: 0.0033 - acc: 1.0000 - val_loss: 6.0630 - val_acc: 0.5000\n",
      "Epoch 25/75\n",
      "8/8 [==============================] - 4s 499ms/step - loss: 0.0136 - acc: 0.9922 - val_loss: 6.1137 - val_acc: 0.5000\n",
      "Epoch 26/75\n",
      "8/8 [==============================] - 4s 531ms/step - loss: 0.0695 - acc: 0.9922 - val_loss: 3.2575 - val_acc: 0.5000\n",
      "Epoch 27/75\n",
      "8/8 [==============================] - 4s 487ms/step - loss: 0.0168 - acc: 1.0000 - val_loss: 6.0593 - val_acc: 0.5000\n",
      "Epoch 28/75\n",
      "8/8 [==============================] - 4s 507ms/step - loss: 0.0013 - acc: 1.0000 - val_loss: 7.3714 - val_acc: 0.5000\n",
      "Epoch 29/75\n",
      "8/8 [==============================] - 4s 528ms/step - loss: 3.4284e-04 - acc: 1.0000 - val_loss: 7.8742 - val_acc: 0.5000\n",
      "Epoch 30/75\n",
      "8/8 [==============================] - 4s 473ms/step - loss: 5.4840e-04 - acc: 1.0000 - val_loss: 8.0590 - val_acc: 0.5000\n",
      "Epoch 31/75\n",
      "8/8 [==============================] - 4s 490ms/step - loss: 2.4560e-04 - acc: 1.0000 - val_loss: 8.0590 - val_acc: 0.5000\n",
      "Epoch 32/75\n",
      "8/8 [==============================] - 4s 529ms/step - loss: 5.8694e-04 - acc: 1.0000 - val_loss: 7.7926 - val_acc: 0.5000\n",
      "Epoch 33/75\n",
      "8/8 [==============================] - 4s 529ms/step - loss: 1.0386e-04 - acc: 1.0000 - val_loss: 7.4504 - val_acc: 0.5000\n",
      "Epoch 34/75\n",
      "8/8 [==============================] - 4s 532ms/step - loss: 1.0546e-04 - acc: 1.0000 - val_loss: 7.3544 - val_acc: 0.5000\n",
      "Epoch 35/75\n",
      "8/8 [==============================] - 4s 510ms/step - loss: 2.0934e-04 - acc: 1.0000 - val_loss: 7.3929 - val_acc: 0.5000\n",
      "Epoch 36/75\n",
      "8/8 [==============================] - 4s 527ms/step - loss: 0.0276 - acc: 0.9844 - val_loss: 5.8273 - val_acc: 0.5000\n",
      "Epoch 37/75\n",
      "8/8 [==============================] - 4s 506ms/step - loss: 0.0178 - acc: 0.9922 - val_loss: 4.4356 - val_acc: 0.5000\n",
      "Epoch 38/75\n",
      "8/8 [==============================] - 4s 518ms/step - loss: 0.0043 - acc: 1.0000 - val_loss: 4.9393 - val_acc: 0.5000\n",
      "Epoch 39/75\n",
      "8/8 [==============================] - 4s 498ms/step - loss: 0.0019 - acc: 1.0000 - val_loss: 6.1162 - val_acc: 0.5000\n",
      "Epoch 40/75\n",
      "8/8 [==============================] - 4s 517ms/step - loss: 4.0802e-04 - acc: 1.0000 - val_loss: 7.1503 - val_acc: 0.5000\n",
      "Epoch 41/75\n",
      "8/8 [==============================] - 4s 462ms/step - loss: 0.0011 - acc: 1.0000 - val_loss: 7.1955 - val_acc: 0.5000\n",
      "Epoch 42/75\n",
      "8/8 [==============================] - 4s 487ms/step - loss: 1.0252e-04 - acc: 1.0000 - val_loss: 7.2227 - val_acc: 0.5000\n",
      "Epoch 43/75\n",
      "8/8 [==============================] - 4s 532ms/step - loss: 8.3069e-04 - acc: 1.0000 - val_loss: 6.9725 - val_acc: 0.5000\n",
      "Epoch 44/75\n",
      "8/8 [==============================] - 4s 514ms/step - loss: 5.4583e-04 - acc: 1.0000 - val_loss: 6.6969 - val_acc: 0.5000\n",
      "Epoch 45/75\n",
      "8/8 [==============================] - 4s 523ms/step - loss: 7.7741e-05 - acc: 1.0000 - val_loss: 6.5809 - val_acc: 0.5000\n",
      "Epoch 46/75\n",
      "8/8 [==============================] - 4s 488ms/step - loss: 6.2346e-05 - acc: 1.0000 - val_loss: 6.5475 - val_acc: 0.5000\n",
      "Epoch 47/75\n",
      "8/8 [==============================] - 4s 524ms/step - loss: 1.3639e-04 - acc: 1.0000 - val_loss: 6.6052 - val_acc: 0.5000\n",
      "Epoch 48/75\n",
      "8/8 [==============================] - 4s 523ms/step - loss: 1.0047e-04 - acc: 1.0000 - val_loss: 6.6715 - val_acc: 0.5000\n",
      "Epoch 49/75\n",
      "8/8 [==============================] - 4s 511ms/step - loss: 3.0883e-04 - acc: 1.0000 - val_loss: 6.8386 - val_acc: 0.5000\n",
      "Epoch 50/75\n",
      "8/8 [==============================] - 4s 503ms/step - loss: 1.2251e-04 - acc: 1.0000 - val_loss: 6.9919 - val_acc: 0.5000\n",
      "Epoch 51/75\n",
      "8/8 [==============================] - 4s 522ms/step - loss: 5.5868e-05 - acc: 1.0000 - val_loss: 7.0641 - val_acc: 0.5000\n",
      "Epoch 52/75\n",
      "8/8 [==============================] - 4s 526ms/step - loss: 1.1114e-05 - acc: 1.0000 - val_loss: 7.0974 - val_acc: 0.5000\n",
      "Epoch 53/75\n",
      "8/8 [==============================] - 4s 543ms/step - loss: 1.0532e-05 - acc: 1.0000 - val_loss: 7.1164 - val_acc: 0.5000\n",
      "Epoch 54/75\n",
      "8/8 [==============================] - 4s 524ms/step - loss: 2.4491e-05 - acc: 1.0000 - val_loss: 7.1189 - val_acc: 0.5000\n",
      "Epoch 55/75\n",
      "8/8 [==============================] - 4s 543ms/step - loss: 1.0024e-05 - acc: 1.0000 - val_loss: 7.1231 - val_acc: 0.5000\n",
      "Epoch 56/75\n",
      "8/8 [==============================] - 4s 529ms/step - loss: 8.4424e-06 - acc: 1.0000 - val_loss: 7.1307 - val_acc: 0.5000\n",
      "Epoch 57/75\n",
      "8/8 [==============================] - 5s 576ms/step - loss: 1.2505e-05 - acc: 1.0000 - val_loss: 7.1388 - val_acc: 0.5000\n",
      "Epoch 58/75\n",
      "8/8 [==============================] - 4s 524ms/step - loss: 1.9582e-05 - acc: 1.0000 - val_loss: 7.1435 - val_acc: 0.5000\n",
      "Epoch 59/75\n",
      "8/8 [==============================] - 4s 548ms/step - loss: 6.4786e-06 - acc: 1.0000 - val_loss: 7.1466 - val_acc: 0.5000\n",
      "Epoch 60/75\n",
      "8/8 [==============================] - 5s 563ms/step - loss: 6.1575e-06 - acc: 1.0000 - val_loss: 7.1493 - val_acc: 0.5000\n",
      "Epoch 61/75\n",
      "8/8 [==============================] - 4s 534ms/step - loss: 9.6833e-06 - acc: 1.0000 - val_loss: 7.1512 - val_acc: 0.5000\n",
      "Epoch 62/75\n",
      "8/8 [==============================] - 4s 535ms/step - loss: 5.9261e-06 - acc: 1.0000 - val_loss: 7.1532 - val_acc: 0.5000\n"
     ]
    },
    {
     "name": "stdout",
     "output_type": "stream",
     "text": [
      "Epoch 63/75\n",
      "8/8 [==============================] - 4s 525ms/step - loss: 7.2632e-06 - acc: 1.0000 - val_loss: 7.1572 - val_acc: 0.5000\n",
      "Epoch 64/75\n",
      "8/8 [==============================] - 4s 543ms/step - loss: 4.4343e-05 - acc: 1.0000 - val_loss: 7.1545 - val_acc: 0.5000\n",
      "Epoch 65/75\n",
      "8/8 [==============================] - 4s 545ms/step - loss: 2.0285e-05 - acc: 1.0000 - val_loss: 7.1651 - val_acc: 0.5000\n",
      "Epoch 66/75\n",
      "8/8 [==============================] - 5s 586ms/step - loss: 5.5395e-06 - acc: 1.0000 - val_loss: 7.1730 - val_acc: 0.5000\n",
      "Epoch 67/75\n",
      "8/8 [==============================] - 4s 544ms/step - loss: 6.4882e-06 - acc: 1.0000 - val_loss: 7.1801 - val_acc: 0.5000\n",
      "Epoch 68/75\n",
      "8/8 [==============================] - 4s 513ms/step - loss: 1.7675e-05 - acc: 1.0000 - val_loss: 7.1850 - val_acc: 0.5000\n",
      "Epoch 69/75\n",
      "8/8 [==============================] - 4s 484ms/step - loss: 5.9091e-06 - acc: 1.0000 - val_loss: 7.1928 - val_acc: 0.5000\n",
      "Epoch 70/75\n",
      "8/8 [==============================] - 4s 498ms/step - loss: 1.8582e-05 - acc: 1.0000 - val_loss: 7.1952 - val_acc: 0.5000\n",
      "Epoch 71/75\n",
      "8/8 [==============================] - 4s 489ms/step - loss: 1.0026e-05 - acc: 1.0000 - val_loss: 7.1977 - val_acc: 0.5000\n",
      "Epoch 72/75\n",
      "8/8 [==============================] - 4s 558ms/step - loss: 1.8411e-05 - acc: 1.0000 - val_loss: 7.1969 - val_acc: 0.5000\n",
      "Epoch 73/75\n",
      "8/8 [==============================] - 4s 514ms/step - loss: 1.9605e-05 - acc: 1.0000 - val_loss: 7.1975 - val_acc: 0.5000\n",
      "Epoch 74/75\n",
      "8/8 [==============================] - 4s 500ms/step - loss: 6.7607e-06 - acc: 1.0000 - val_loss: 7.1984 - val_acc: 0.5000\n",
      "Epoch 75/75\n",
      "8/8 [==============================] - 4s 494ms/step - loss: 9.8118e-06 - acc: 1.0000 - val_loss: 7.2045 - val_acc: 0.5000\n"
     ]
    },
    {
     "data": {
      "text/plain": [
       "<keras.callbacks.History at 0x1d28b09d6a0>"
      ]
     },
     "execution_count": 17,
     "metadata": {},
     "output_type": "execute_result"
    }
   ],
   "source": [
    "classifier.fit_generator(training_set,\n",
    "                        steps_per_epoch=8,\n",
    "                        epochs=75,\n",
    "                        validation_data=test_set,\n",
    "                        validation_steps=2)"
   ]
  },
  {
   "cell_type": "code",
   "execution_count": 18,
   "metadata": {},
   "outputs": [
    {
     "data": {
      "text/plain": [
       "<bound method Network.summary of <keras.engine.sequential.Sequential object at 0x000001D289BB9160>>"
      ]
     },
     "execution_count": 18,
     "metadata": {},
     "output_type": "execute_result"
    }
   ],
   "source": [
    "classifier.summary"
   ]
  },
  {
   "cell_type": "code",
   "execution_count": 19,
   "metadata": {
    "scrolled": false
   },
   "outputs": [
    {
     "name": "stdout",
     "output_type": "stream",
     "text": [
      "_________________________________________________________________\n",
      "Layer (type)                 Output Shape              Param #   \n",
      "=================================================================\n",
      "conv2d_1 (Conv2D)            (None, 254, 254, 32)      896       \n",
      "_________________________________________________________________\n",
      "max_pooling2d_1 (MaxPooling2 (None, 127, 127, 32)      0         \n",
      "_________________________________________________________________\n",
      "conv2d_2 (Conv2D)            (None, 125, 125, 32)      9248      \n",
      "_________________________________________________________________\n",
      "max_pooling2d_2 (MaxPooling2 (None, 62, 62, 32)        0         \n",
      "_________________________________________________________________\n",
      "conv2d_3 (Conv2D)            (None, 60, 60, 64)        18496     \n",
      "_________________________________________________________________\n",
      "max_pooling2d_3 (MaxPooling2 (None, 30, 30, 64)        0         \n",
      "_________________________________________________________________\n",
      "flatten_1 (Flatten)          (None, 57600)             0         \n",
      "_________________________________________________________________\n",
      "dense_1 (Dense)              (None, 150)               8640150   \n",
      "_________________________________________________________________\n",
      "dense_2 (Dense)              (None, 1)                 151       \n",
      "=================================================================\n",
      "Total params: 8,668,941\n",
      "Trainable params: 8,668,941\n",
      "Non-trainable params: 0\n",
      "_________________________________________________________________\n"
     ]
    }
   ],
   "source": [
    "classifier.summary()"
   ]
  },
  {
   "cell_type": "code",
   "execution_count": 20,
   "metadata": {},
   "outputs": [],
   "source": [
    "import numpy as np"
   ]
  },
  {
   "cell_type": "code",
   "execution_count": 21,
   "metadata": {},
   "outputs": [],
   "source": [
    "from keras.preprocessing import image"
   ]
  },
  {
   "cell_type": "code",
   "execution_count": 44,
   "metadata": {},
   "outputs": [],
   "source": [
    "test_image = image.load_img(path='../dataset/single_prediction/correct_or_wrong_1.jpg', target_size=(256, 256))"
   ]
  },
  {
   "cell_type": "code",
   "execution_count": 45,
   "metadata": {},
   "outputs": [
    {
     "data": {
      "image/png": "[encoded data removed]",
      "text/plain": [
       "<PIL.Image.Image image mode=RGB size=256x256 at 0x1D28C1D8B38>"
      ]
     },
     "execution_count": 45,
     "metadata": {},
     "output_type": "execute_result"
    }
   ],
   "source": [
    "test_image"
   ]
  },
  {
   "cell_type": "code",
   "execution_count": 46,
   "metadata": {},
   "outputs": [],
   "source": [
    "test_image = image.img_to_array(test_image)"
   ]
  },
  {
   "cell_type": "code",
   "execution_count": 47,
   "metadata": {},
   "outputs": [
    {
     "data": {
      "text/plain": [
       "array([[[250., 252., 251.],\n",
       "        [250., 252., 251.],\n",
       "        [250., 252., 251.],\n",
       "        ...,\n",
       "        [252., 253., 255.],\n",
       "        [251., 252., 254.],\n",
       "        [254., 255., 255.]],\n",
       "\n",
       "       [[251., 253., 252.],\n",
       "        [250., 252., 251.],\n",
       "        [249., 251., 250.],\n",
       "        ...,\n",
       "        [252., 253., 255.],\n",
       "        [251., 252., 254.],\n",
       "        [250., 251., 253.]],\n",
       "\n",
       "       [[250., 252., 251.],\n",
       "        [250., 252., 251.],\n",
       "        [250., 252., 251.],\n",
       "        ...,\n",
       "        [252., 253., 255.],\n",
       "        [251., 252., 254.],\n",
       "        [250., 251., 253.]],\n",
       "\n",
       "       ...,\n",
       "\n",
       "       [[252., 254., 253.],\n",
       "        [252., 254., 253.],\n",
       "        [252., 254., 253.],\n",
       "        ...,\n",
       "        [253., 254., 255.],\n",
       "        [252., 253., 255.],\n",
       "        [255., 255., 255.]],\n",
       "\n",
       "       [[253., 255., 254.],\n",
       "        [253., 255., 254.],\n",
       "        [253., 255., 254.],\n",
       "        ...,\n",
       "        [253., 254., 255.],\n",
       "        [253., 254., 255.],\n",
       "        [255., 255., 255.]],\n",
       "\n",
       "       [[253., 255., 254.],\n",
       "        [253., 255., 254.],\n",
       "        [253., 255., 254.],\n",
       "        ...,\n",
       "        [253., 254., 255.],\n",
       "        [253., 254., 255.],\n",
       "        [255., 255., 255.]]], dtype=float32)"
      ]
     },
     "execution_count": 47,
     "metadata": {},
     "output_type": "execute_result"
    }
   ],
   "source": [
    "test_image"
   ]
  },
  {
   "cell_type": "code",
   "execution_count": 48,
   "metadata": {},
   "outputs": [],
   "source": [
    "test_image = np.expand_dims(a=test_image,axis=0)"
   ]
  },
  {
   "cell_type": "code",
   "execution_count": 49,
   "metadata": {},
   "outputs": [
    {
     "data": {
      "text/plain": [
       "196608"
      ]
     },
     "execution_count": 49,
     "metadata": {},
     "output_type": "execute_result"
    }
   ],
   "source": [
    "test_image.size"
   ]
  },
  {
   "cell_type": "code",
   "execution_count": 50,
   "metadata": {},
   "outputs": [],
   "source": [
    "result = classifier.predict(test_image)"
   ]
  },
  {
   "cell_type": "code",
   "execution_count": 51,
   "metadata": {},
   "outputs": [
    {
     "data": {
      "text/plain": [
       "array([[0.]], dtype=float32)"
      ]
     },
     "execution_count": 51,
     "metadata": {},
     "output_type": "execute_result"
    }
   ],
   "source": [
    "result"
   ]
  },
  {
   "cell_type": "code",
   "execution_count": 52,
   "metadata": {},
   "outputs": [
    {
     "data": {
      "text/plain": [
       "{'correct': 0, 'wrong': 1}"
      ]
     },
     "execution_count": 52,
     "metadata": {},
     "output_type": "execute_result"
    }
   ],
   "source": [
    "training_set.class_indices"
   ]
  },
  {
   "cell_type": "code",
   "execution_count": 53,
   "metadata": {},
   "outputs": [],
   "source": [
    "def corrorwor(res):\n",
    "    if res[0][0]==1:\n",
    "        pred = \"Wrong answer! Try again\"\n",
    "    else:\n",
    "        pred = \"Correct answer! Great JOB!\"\n",
    "    return pred"
   ]
  },
  {
   "cell_type": "code",
   "execution_count": 54,
   "metadata": {},
   "outputs": [
    {
     "data": {
      "text/plain": [
       "'Correct answer! Great JOB!'"
      ]
     },
     "execution_count": 54,
     "metadata": {},
     "output_type": "execute_result"
    }
   ],
   "source": [
    "corrorwor(result)"
   ]
  },
  {
   "cell_type": "code",
   "execution_count": null,
   "metadata": {},
   "outputs": [],
   "source": []
  },
  {
   "cell_type": "code",
   "execution_count": null,
   "metadata": {},
   "outputs": [],
   "source": []
  }
 ],
 "metadata": {
  "kernelspec": {
   "display_name": "Python 3",
   "language": "python",
   "name": "python3"
  },
  "language_info": {
   "codemirror_mode": {
    "name": "ipython",
    "version": 3
   },
   "file_extension": ".py",
   "mimetype": "text/x-python",
   "name": "python",
   "nbconvert_exporter": "python",
   "pygments_lexer": "ipython3",
   "version": "3.6.6"
  }
 },
 "nbformat": 4,
 "nbformat_minor": 2
}
