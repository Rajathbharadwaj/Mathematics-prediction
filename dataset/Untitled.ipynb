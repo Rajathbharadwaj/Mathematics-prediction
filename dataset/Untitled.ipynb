{
 "cells": [
  {
   "cell_type": "code",
   "execution_count": 78,
   "metadata": {},
   "outputs": [],
   "source": [
    "from keras.models import Sequential\n",
    "from keras.layers import Convolution2D\n",
    "from keras.layers import MaxPooling2D\n",
    "from keras.layers import Flatten\n",
    "from keras.layers import Dense"
   ]
  },
  {
   "cell_type": "code",
   "execution_count": 79,
   "metadata": {},
   "outputs": [],
   "source": [
    "classifier = Sequential()"
   ]
  },
  {
   "cell_type": "code",
   "execution_count": 80,
   "metadata": {},
   "outputs": [],
   "source": [
    "classifier.add(Convolution2D(32, (3, 3), input_shape = (256,256,3), activation = 'relu'))"
   ]
  },
  {
   "cell_type": "code",
   "execution_count": 81,
   "metadata": {},
   "outputs": [],
   "source": [
    "classifier.add(MaxPooling2D(pool_size=(2,2)))"
   ]
  },
  {
   "cell_type": "code",
   "execution_count": 82,
   "metadata": {},
   "outputs": [],
   "source": [
    "#second convo layer\n",
    "classifier.add(Convolution2D(32, (3, 3), activation = 'relu'))"
   ]
  },
  {
   "cell_type": "code",
   "execution_count": 83,
   "metadata": {},
   "outputs": [],
   "source": [
    "classifier.add(MaxPooling2D(pool_size=(2,2)))"
   ]
  },
  {
   "cell_type": "code",
   "execution_count": 84,
   "metadata": {},
   "outputs": [],
   "source": [
    "#3 convo layer\n",
    "classifier.add(Convolution2D(64, (3, 3), activation = 'relu'))"
   ]
  },
  {
   "cell_type": "code",
   "execution_count": 85,
   "metadata": {},
   "outputs": [],
   "source": [
    "classifier.add(MaxPooling2D(pool_size=(2,2)))"
   ]
  },
  {
   "cell_type": "code",
   "execution_count": 86,
   "metadata": {},
   "outputs": [],
   "source": [
    "classifier.add(Flatten())"
   ]
  },
  {
   "cell_type": "code",
   "execution_count": 87,
   "metadata": {},
   "outputs": [],
   "source": [
    "classifier.add(Dense(units=150, activation='relu'))\n",
    "classifier.add(Dense(units=1, activation='sigmoid'))"
   ]
  },
  {
   "cell_type": "code",
   "execution_count": 88,
   "metadata": {},
   "outputs": [],
   "source": [
    "classifier.compile(optimizer='adam',loss='binary_crossentropy',metrics=['accuracy'])"
   ]
  },
  {
   "cell_type": "code",
   "execution_count": 89,
   "metadata": {},
   "outputs": [],
   "source": [
    "from keras.preprocessing.image import ImageDataGenerator"
   ]
  },
  {
   "cell_type": "code",
   "execution_count": 90,
   "metadata": {},
   "outputs": [],
   "source": [
    "train_datagen = ImageDataGenerator(rescale = 1./255,\n",
    "                                   shear_range = 0.2,\n",
    "                                   zoom_range = 0.2,\n",
    "                                   horizontal_flip = True)\n"
   ]
  },
  {
   "cell_type": "code",
   "execution_count": 91,
   "metadata": {},
   "outputs": [],
   "source": [
    "test_datagen = ImageDataGenerator(rescale = 1./255)\n"
   ]
  },
  {
   "cell_type": "code",
   "execution_count": 92,
   "metadata": {},
   "outputs": [
    {
     "name": "stdout",
     "output_type": "stream",
     "text": [
      "Found 16 images belonging to 2 classes.\n"
     ]
    }
   ],
   "source": [
    "training_set = train_datagen.flow_from_directory('../dataset/training_set/',\n",
    "                                                 target_size = (256,256),\n",
    "                                                 batch_size = 32,\n",
    "                                                 class_mode = 'binary')\n"
   ]
  },
  {
   "cell_type": "code",
   "execution_count": 93,
   "metadata": {},
   "outputs": [
    {
     "name": "stdout",
     "output_type": "stream",
     "text": [
      "Found 4 images belonging to 2 classes.\n"
     ]
    }
   ],
   "source": [
    "test_set = test_datagen.flow_from_directory('../dataset/test_set/',\n",
    "                                            target_size=(256, 256),\n",
    "                                            batch_size=32,\n",
    "                                            class_mode='binary')\n"
   ]
  },
  {
   "cell_type": "code",
   "execution_count": 94,
   "metadata": {
    "scrolled": false
   },
   "outputs": [
    {
     "name": "stdout",
     "output_type": "stream",
     "text": [
      "Epoch 1/75\n",
      "8/8 [==============================] - 5s 603ms/step - loss: 1.3301 - acc: 0.5000 - val_loss: 0.7065 - val_acc: 0.5000\n",
      "Epoch 2/75\n",
      "8/8 [==============================] - 4s 443ms/step - loss: 0.6808 - acc: 0.5469 - val_loss: 0.7407 - val_acc: 0.5000\n",
      "Epoch 3/75\n",
      "8/8 [==============================] - 4s 444ms/step - loss: 0.6048 - acc: 0.7344 - val_loss: 1.1445 - val_acc: 0.5000\n",
      "Epoch 4/75\n",
      "8/8 [==============================] - 4s 454ms/step - loss: 0.4384 - acc: 0.8281 - val_loss: 2.2924 - val_acc: 0.5000\n",
      "Epoch 5/75\n",
      "8/8 [==============================] - 4s 456ms/step - loss: 0.3488 - acc: 0.8203 - val_loss: 2.7604 - val_acc: 0.5000\n",
      "Epoch 6/75\n",
      "8/8 [==============================] - 4s 450ms/step - loss: 0.1837 - acc: 0.9219 - val_loss: 4.3565 - val_acc: 0.5000\n",
      "Epoch 7/75\n",
      "8/8 [==============================] - 4s 453ms/step - loss: 0.1376 - acc: 0.9453 - val_loss: 6.2735 - val_acc: 0.5000\n",
      "Epoch 8/75\n",
      "8/8 [==============================] - 3s 433ms/step - loss: 0.1514 - acc: 0.9453 - val_loss: 5.5693 - val_acc: 0.5000\n",
      "Epoch 9/75\n",
      "8/8 [==============================] - 4s 438ms/step - loss: 0.0765 - acc: 0.9766 - val_loss: 7.1788 - val_acc: 0.5000\n",
      "Epoch 10/75\n",
      "8/8 [==============================] - 4s 450ms/step - loss: 0.0304 - acc: 0.9922 - val_loss: 6.9408 - val_acc: 0.5000\n",
      "Epoch 11/75\n",
      "8/8 [==============================] - 4s 475ms/step - loss: 0.0199 - acc: 0.9922 - val_loss: 7.4230 - val_acc: 0.5000\n",
      "Epoch 12/75\n",
      "8/8 [==============================] - 4s 455ms/step - loss: 0.0469 - acc: 0.9844 - val_loss: 5.7908 - val_acc: 0.5000\n",
      "Epoch 13/75\n",
      "8/8 [==============================] - 4s 458ms/step - loss: 0.0967 - acc: 0.9688 - val_loss: 6.0478 - val_acc: 0.5000\n",
      "Epoch 14/75\n",
      "8/8 [==============================] - 4s 461ms/step - loss: 0.0290 - acc: 0.9922 - val_loss: 7.1780 - val_acc: 0.5000\n",
      "Epoch 15/75\n",
      "8/8 [==============================] - 4s 455ms/step - loss: 0.0338 - acc: 0.9766 - val_loss: 7.0117 - val_acc: 0.5000\n",
      "Epoch 16/75\n",
      "8/8 [==============================] - 4s 463ms/step - loss: 0.0106 - acc: 1.0000 - val_loss: 8.0590 - val_acc: 0.5000\n",
      "Epoch 17/75\n",
      "8/8 [==============================] - 4s 455ms/step - loss: 0.0072 - acc: 1.0000 - val_loss: 7.8591 - val_acc: 0.5000\n",
      "Epoch 18/75\n",
      "8/8 [==============================] - 4s 454ms/step - loss: 0.0131 - acc: 1.0000 - val_loss: 7.6481 - val_acc: 0.5000\n",
      "Epoch 19/75\n",
      "8/8 [==============================] - 4s 443ms/step - loss: 4.4167e-04 - acc: 1.0000 - val_loss: 8.0590 - val_acc: 0.5000\n",
      "Epoch 20/75\n",
      "8/8 [==============================] - 3s 436ms/step - loss: 0.0147 - acc: 0.9922 - val_loss: 8.0590 - val_acc: 0.5000\n",
      "Epoch 21/75\n",
      "8/8 [==============================] - 3s 436ms/step - loss: 0.0648 - acc: 0.9844 - val_loss: 6.6382 - val_acc: 0.5000\n",
      "Epoch 22/75\n",
      "8/8 [==============================] - 4s 450ms/step - loss: 0.0221 - acc: 0.9922 - val_loss: 6.7606 - val_acc: 0.5000\n",
      "Epoch 23/75\n",
      "8/8 [==============================] - 4s 445ms/step - loss: 0.0080 - acc: 1.0000 - val_loss: 8.0590 - val_acc: 0.5000\n",
      "Epoch 24/75\n",
      "8/8 [==============================] - 4s 444ms/step - loss: 0.0020 - acc: 1.0000 - val_loss: 8.0590 - val_acc: 0.5000\n",
      "Epoch 25/75\n",
      "8/8 [==============================] - 4s 443ms/step - loss: 3.7518e-04 - acc: 1.0000 - val_loss: 8.0590 - val_acc: 0.5000\n",
      "Epoch 26/75\n",
      "8/8 [==============================] - 4s 440ms/step - loss: 7.3603e-05 - acc: 1.0000 - val_loss: 8.0590 - val_acc: 0.5000\n",
      "Epoch 27/75\n",
      "8/8 [==============================] - 4s 448ms/step - loss: 8.1904e-04 - acc: 1.0000 - val_loss: 8.0590 - val_acc: 0.5000\n",
      "Epoch 28/75\n",
      "8/8 [==============================] - 4s 439ms/step - loss: 4.4087e-04 - acc: 1.0000 - val_loss: 8.0590 - val_acc: 0.5000\n",
      "Epoch 29/75\n",
      "8/8 [==============================] - 4s 457ms/step - loss: 2.7849e-04 - acc: 1.0000 - val_loss: 8.0590 - val_acc: 0.5000\n",
      "Epoch 30/75\n",
      "8/8 [==============================] - 4s 439ms/step - loss: 1.4746e-04 - acc: 1.0000 - val_loss: 8.0590 - val_acc: 0.5000\n",
      "Epoch 31/75\n",
      "8/8 [==============================] - 4s 443ms/step - loss: 0.0239 - acc: 0.9922 - val_loss: 8.0590 - val_acc: 0.5000\n",
      "Epoch 32/75\n",
      "8/8 [==============================] - 4s 441ms/step - loss: 0.0492 - acc: 0.9766 - val_loss: 6.1158 - val_acc: 0.5000\n",
      "Epoch 33/75\n",
      "8/8 [==============================] - 4s 453ms/step - loss: 0.0565 - acc: 0.9609 - val_loss: 7.8290 - val_acc: 0.5000\n",
      "Epoch 34/75\n",
      "8/8 [==============================] - 4s 467ms/step - loss: 0.0325 - acc: 0.9844 - val_loss: 7.8509 - val_acc: 0.5000\n",
      "Epoch 35/75\n",
      "8/8 [==============================] - 4s 465ms/step - loss: 0.0091 - acc: 1.0000 - val_loss: 7.4059 - val_acc: 0.5000\n",
      "Epoch 36/75\n",
      "8/8 [==============================] - 4s 459ms/step - loss: 0.0285 - acc: 0.9922 - val_loss: 8.0590 - val_acc: 0.5000\n",
      "Epoch 37/75\n",
      "8/8 [==============================] - 4s 468ms/step - loss: 0.0181 - acc: 0.9844 - val_loss: 7.8693 - val_acc: 0.5000\n",
      "Epoch 38/75\n",
      "8/8 [==============================] - 4s 476ms/step - loss: 0.0177 - acc: 1.0000 - val_loss: 5.4641 - val_acc: 0.5000\n",
      "Epoch 39/75\n",
      "8/8 [==============================] - 4s 469ms/step - loss: 0.0051 - acc: 1.0000 - val_loss: 6.4246 - val_acc: 0.5000\n",
      "Epoch 40/75\n",
      "8/8 [==============================] - 4s 467ms/step - loss: 3.5864e-04 - acc: 1.0000 - val_loss: 7.6318 - val_acc: 0.5000\n",
      "Epoch 41/75\n",
      "8/8 [==============================] - 4s 459ms/step - loss: 7.5505e-04 - acc: 1.0000 - val_loss: 8.0590 - val_acc: 0.5000\n",
      "Epoch 42/75\n",
      "8/8 [==============================] - 4s 457ms/step - loss: 0.0010 - acc: 1.0000 - val_loss: 8.0590 - val_acc: 0.5000\n",
      "Epoch 43/75\n",
      "8/8 [==============================] - 4s 444ms/step - loss: 2.9546e-04 - acc: 1.0000 - val_loss: 8.0590 - val_acc: 0.5000\n",
      "Epoch 44/75\n",
      "8/8 [==============================] - 4s 438ms/step - loss: 0.0261 - acc: 0.9844 - val_loss: 6.4078 - val_acc: 0.5000\n",
      "Epoch 45/75\n",
      "8/8 [==============================] - 3s 434ms/step - loss: 0.0025 - acc: 1.0000 - val_loss: 7.1209 - val_acc: 0.5000\n",
      "Epoch 46/75\n",
      "8/8 [==============================] - 4s 455ms/step - loss: 0.0065 - acc: 1.0000 - val_loss: 7.9386 - val_acc: 0.5000\n",
      "Epoch 47/75\n",
      "8/8 [==============================] - 4s 442ms/step - loss: 6.2133e-04 - acc: 1.0000 - val_loss: 8.0591 - val_acc: 0.5000\n",
      "Epoch 48/75\n",
      "8/8 [==============================] - 4s 444ms/step - loss: 0.0041 - acc: 1.0000 - val_loss: 8.0590 - val_acc: 0.5000\n",
      "Epoch 49/75\n",
      "8/8 [==============================] - 4s 449ms/step - loss: 1.0664e-04 - acc: 1.0000 - val_loss: 8.0590 - val_acc: 0.5000\n",
      "Epoch 50/75\n",
      "8/8 [==============================] - 4s 443ms/step - loss: 0.0329 - acc: 0.9922 - val_loss: 6.5835 - val_acc: 0.5000\n",
      "Epoch 51/75\n",
      "8/8 [==============================] - 4s 446ms/step - loss: 0.0087 - acc: 1.0000 - val_loss: 4.9215 - val_acc: 0.5000\n",
      "Epoch 52/75\n",
      "8/8 [==============================] - 4s 442ms/step - loss: 0.0175 - acc: 0.9922 - val_loss: 5.4446 - val_acc: 0.5000\n",
      "Epoch 53/75\n",
      "8/8 [==============================] - 4s 440ms/step - loss: 0.0081 - acc: 1.0000 - val_loss: 6.5375 - val_acc: 0.5000\n",
      "Epoch 54/75\n",
      "8/8 [==============================] - 4s 442ms/step - loss: 0.0031 - acc: 1.0000 - val_loss: 7.4782 - val_acc: 0.5000\n",
      "Epoch 55/75\n",
      "8/8 [==============================] - 4s 438ms/step - loss: 1.4610e-04 - acc: 1.0000 - val_loss: 8.0590 - val_acc: 0.5000\n",
      "Epoch 56/75\n",
      "8/8 [==============================] - 4s 445ms/step - loss: 0.0014 - acc: 1.0000 - val_loss: 8.0590 - val_acc: 0.5000\n",
      "Epoch 57/75\n",
      "8/8 [==============================] - 4s 443ms/step - loss: 3.0479e-05 - acc: 1.0000 - val_loss: 8.0590 - val_acc: 0.5000\n",
      "Epoch 58/75\n",
      "8/8 [==============================] - 3s 434ms/step - loss: 3.8864e-05 - acc: 1.0000 - val_loss: 8.0590 - val_acc: 0.5000\n",
      "Epoch 59/75\n",
      "8/8 [==============================] - 4s 449ms/step - loss: 5.0716e-05 - acc: 1.0000 - val_loss: 8.0590 - val_acc: 0.5000\n",
      "Epoch 60/75\n",
      "8/8 [==============================] - 3s 430ms/step - loss: 9.1714e-04 - acc: 1.0000 - val_loss: 8.0590 - val_acc: 0.5000\n",
      "Epoch 61/75\n",
      "8/8 [==============================] - 3s 432ms/step - loss: 3.7192e-06 - acc: 1.0000 - val_loss: 8.0590 - val_acc: 0.5000\n",
      "Epoch 62/75\n",
      "8/8 [==============================] - 4s 440ms/step - loss: 1.2119e-04 - acc: 1.0000 - val_loss: 8.0590 - val_acc: 0.5000\n",
      "Epoch 63/75\n"
     ]
    },
    {
     "name": "stdout",
     "output_type": "stream",
     "text": [
      "8/8 [==============================] - 4s 453ms/step - loss: 4.3829e-04 - acc: 1.0000 - val_loss: 8.0452 - val_acc: 0.5000\n",
      "Epoch 64/75\n",
      "8/8 [==============================] - 4s 445ms/step - loss: 1.5711e-06 - acc: 1.0000 - val_loss: 7.7999 - val_acc: 0.5000\n",
      "Epoch 65/75\n",
      "8/8 [==============================] - 4s 438ms/step - loss: 5.4946e-05 - acc: 1.0000 - val_loss: 7.7373 - val_acc: 0.5000\n",
      "Epoch 66/75\n",
      "8/8 [==============================] - 3s 436ms/step - loss: 0.0016 - acc: 1.0000 - val_loss: 8.0590 - val_acc: 0.5000\n",
      "Epoch 67/75\n",
      "8/8 [==============================] - 4s 440ms/step - loss: 1.1877e-05 - acc: 1.0000 - val_loss: 8.0590 - val_acc: 0.5000\n",
      "Epoch 68/75\n",
      "8/8 [==============================] - 4s 452ms/step - loss: 2.8567e-05 - acc: 1.0000 - val_loss: 8.0590 - val_acc: 0.5000\n",
      "Epoch 69/75\n",
      "8/8 [==============================] - 3s 433ms/step - loss: 6.7235e-05 - acc: 1.0000 - val_loss: 8.0590 - val_acc: 0.5000\n",
      "Epoch 70/75\n",
      "8/8 [==============================] - 4s 444ms/step - loss: 1.1358e-04 - acc: 1.0000 - val_loss: 8.0590 - val_acc: 0.5000\n",
      "Epoch 71/75\n",
      "8/8 [==============================] - 4s 451ms/step - loss: 3.2786e-04 - acc: 1.0000 - val_loss: 8.0590 - val_acc: 0.5000\n",
      "Epoch 72/75\n",
      "8/8 [==============================] - 4s 448ms/step - loss: 9.1828e-07 - acc: 1.0000 - val_loss: 8.0590 - val_acc: 0.5000\n",
      "Epoch 73/75\n",
      "8/8 [==============================] - 4s 442ms/step - loss: 1.1603e-05 - acc: 1.0000 - val_loss: 8.0590 - val_acc: 0.5000\n",
      "Epoch 74/75\n",
      "8/8 [==============================] - 4s 447ms/step - loss: 1.8152e-05 - acc: 1.0000 - val_loss: 8.0590 - val_acc: 0.5000\n",
      "Epoch 75/75\n",
      "8/8 [==============================] - 4s 446ms/step - loss: 2.7617e-07 - acc: 1.0000 - val_loss: 8.0590 - val_acc: 0.5000\n"
     ]
    },
    {
     "data": {
      "text/plain": [
       "<keras.callbacks.History at 0x1c3cd7b3e48>"
      ]
     },
     "execution_count": 94,
     "metadata": {},
     "output_type": "execute_result"
    }
   ],
   "source": [
    "classifier.fit_generator(training_set,\n",
    "                        steps_per_epoch=8,\n",
    "                        epochs=75,\n",
    "                        validation_data=test_set,\n",
    "                        validation_steps=2)"
   ]
  },
  {
   "cell_type": "code",
   "execution_count": 95,
   "metadata": {},
   "outputs": [
    {
     "data": {
      "text/plain": [
       "<bound method Network.summary of <keras.engine.sequential.Sequential object at 0x000001C2EDD59518>>"
      ]
     },
     "execution_count": 95,
     "metadata": {},
     "output_type": "execute_result"
    }
   ],
   "source": [
    "classifier.summary"
   ]
  },
  {
   "cell_type": "code",
   "execution_count": 96,
   "metadata": {
    "scrolled": false
   },
   "outputs": [
    {
     "name": "stdout",
     "output_type": "stream",
     "text": [
      "_________________________________________________________________\n",
      "Layer (type)                 Output Shape              Param #   \n",
      "=================================================================\n",
      "conv2d_11 (Conv2D)           (None, 254, 254, 32)      896       \n",
      "_________________________________________________________________\n",
      "max_pooling2d_8 (MaxPooling2 (None, 127, 127, 32)      0         \n",
      "_________________________________________________________________\n",
      "conv2d_12 (Conv2D)           (None, 125, 125, 32)      9248      \n",
      "_________________________________________________________________\n",
      "max_pooling2d_9 (MaxPooling2 (None, 62, 62, 32)        0         \n",
      "_________________________________________________________________\n",
      "conv2d_13 (Conv2D)           (None, 60, 60, 64)        18496     \n",
      "_________________________________________________________________\n",
      "max_pooling2d_10 (MaxPooling (None, 30, 30, 64)        0         \n",
      "_________________________________________________________________\n",
      "flatten_5 (Flatten)          (None, 57600)             0         \n",
      "_________________________________________________________________\n",
      "dense_11 (Dense)             (None, 150)               8640150   \n",
      "_________________________________________________________________\n",
      "dense_12 (Dense)             (None, 1)                 151       \n",
      "=================================================================\n",
      "Total params: 8,668,941\n",
      "Trainable params: 8,668,941\n",
      "Non-trainable params: 0\n",
      "_________________________________________________________________\n"
     ]
    }
   ],
   "source": [
    "classifier.summary()"
   ]
  },
  {
   "cell_type": "code",
   "execution_count": 97,
   "metadata": {},
   "outputs": [],
   "source": [
    "import numpy as np"
   ]
  },
  {
   "cell_type": "code",
   "execution_count": 135,
   "metadata": {},
   "outputs": [],
   "source": [
    "from keras.preprocessing import image"
   ]
  },
  {
   "cell_type": "code",
   "execution_count": 154,
   "metadata": {},
   "outputs": [],
   "source": [
    "test_image = image.load_img(path='../dataset/single_prediction/correct_or_wrong_2.jpg', target_size=(256, 256))"
   ]
  },
  {
   "cell_type": "code",
   "execution_count": 155,
   "metadata": {},
   "outputs": [
    {
     "data": {
      "image/png": "[encoded data removed]",
      "text/plain": [
       "<PIL.Image.Image image mode=RGB size=256x256 at 0x1C3D173C630>"
      ]
     },
     "execution_count": 155,
     "metadata": {},
     "output_type": "execute_result"
    }
   ],
   "source": [
    "test_image"
   ]
  },
  {
   "cell_type": "code",
   "execution_count": 156,
   "metadata": {},
   "outputs": [],
   "source": [
    "test_image = image.img_to_array(test_image)"
   ]
  },
  {
   "cell_type": "code",
   "execution_count": 157,
   "metadata": {},
   "outputs": [
    {
     "data": {
      "text/plain": [
       "array([[[254., 254., 254.],\n",
       "        [254., 254., 254.],\n",
       "        [255., 255., 255.],\n",
       "        ...,\n",
       "        [253., 255., 254.],\n",
       "        [254., 255., 255.],\n",
       "        [252., 254., 253.]],\n",
       "\n",
       "       [[254., 254., 254.],\n",
       "        [254., 254., 254.],\n",
       "        [255., 255., 255.],\n",
       "        ...,\n",
       "        [252., 254., 253.],\n",
       "        [253., 255., 254.],\n",
       "        [253., 255., 254.]],\n",
       "\n",
       "       [[254., 254., 254.],\n",
       "        [254., 254., 254.],\n",
       "        [255., 255., 255.],\n",
       "        ...,\n",
       "        [252., 254., 253.],\n",
       "        [252., 254., 253.],\n",
       "        [253., 255., 254.]],\n",
       "\n",
       "       ...,\n",
       "\n",
       "       [[253., 255., 254.],\n",
       "        [253., 255., 254.],\n",
       "        [253., 255., 254.],\n",
       "        ...,\n",
       "        [251., 253., 252.],\n",
       "        [252., 254., 253.],\n",
       "        [252., 254., 253.]],\n",
       "\n",
       "       [[252., 254., 253.],\n",
       "        [251., 253., 252.],\n",
       "        [254., 255., 255.],\n",
       "        ...,\n",
       "        [252., 254., 253.],\n",
       "        [253., 255., 254.],\n",
       "        [254., 255., 255.]],\n",
       "\n",
       "       [[252., 254., 253.],\n",
       "        [253., 255., 254.],\n",
       "        [253., 255., 254.],\n",
       "        ...,\n",
       "        [252., 254., 253.],\n",
       "        [252., 254., 253.],\n",
       "        [252., 254., 253.]]], dtype=float32)"
      ]
     },
     "execution_count": 157,
     "metadata": {},
     "output_type": "execute_result"
    }
   ],
   "source": [
    "test_image"
   ]
  },
  {
   "cell_type": "code",
   "execution_count": 158,
   "metadata": {},
   "outputs": [],
   "source": [
    "test_image = np.expand_dims(a=test_image,axis=0)"
   ]
  },
  {
   "cell_type": "code",
   "execution_count": 159,
   "metadata": {},
   "outputs": [
    {
     "data": {
      "text/plain": [
       "196608"
      ]
     },
     "execution_count": 159,
     "metadata": {},
     "output_type": "execute_result"
    }
   ],
   "source": [
    "test_image.size"
   ]
  },
  {
   "cell_type": "code",
   "execution_count": 160,
   "metadata": {},
   "outputs": [],
   "source": [
    "result = classifier.predict(test_image)"
   ]
  },
  {
   "cell_type": "code",
   "execution_count": 161,
   "metadata": {},
   "outputs": [
    {
     "data": {
      "text/plain": [
       "array([[1.]], dtype=float32)"
      ]
     },
     "execution_count": 161,
     "metadata": {},
     "output_type": "execute_result"
    }
   ],
   "source": [
    "result"
   ]
  },
  {
   "cell_type": "code",
   "execution_count": 153,
   "metadata": {},
   "outputs": [
    {
     "data": {
      "text/plain": [
       "{'correct': 0, 'wrong': 1}"
      ]
     },
     "execution_count": 153,
     "metadata": {},
     "output_type": "execute_result"
    }
   ],
   "source": [
    "training_set.class_indices"
   ]
  },
  {
   "cell_type": "code",
   "execution_count": 179,
   "metadata": {},
   "outputs": [],
   "source": [
    "def corrorwor(res):\n",
    "    if res[0][0]==1:\n",
    "        pred = \"Wrong! Try again\"\n",
    "    else:\n",
    "        pred = \"Correct! Great JOB!\"\n",
    "    return pred\n",
    "    \n",
    "\n"
   ]
  },
  {
   "cell_type": "code",
   "execution_count": 180,
   "metadata": {},
   "outputs": [
    {
     "data": {
      "text/plain": [
       "'Wrong! Try again'"
      ]
     },
     "execution_count": 180,
     "metadata": {},
     "output_type": "execute_result"
    }
   ],
   "source": [
    "corrorwor(result)"
   ]
  },
  {
   "cell_type": "code",
   "execution_count": null,
   "metadata": {},
   "outputs": [],
   "source": []
  }
 ],
 "metadata": {
  "kernelspec": {
   "display_name": "Python 3",
   "language": "python",
   "name": "python3"
  },
  "language_info": {
   "codemirror_mode": {
    "name": "ipython",
    "version": 3
   },
   "file_extension": ".py",
   "mimetype": "text/x-python",
   "name": "python",
   "nbconvert_exporter": "python",
   "pygments_lexer": "ipython3",
   "version": "3.6.6"
  }
 },
 "nbformat": 4,
 "nbformat_minor": 2
}
